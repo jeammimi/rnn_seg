{
 "cells": [
  {
   "cell_type": "code",
   "execution_count": 1,
   "metadata": {},
   "outputs": [],
   "source": [
    "#Loading some libraries\n",
    "%matplotlib inline\n",
    "%load_ext autoreload\n",
    "%autoreload 2\n",
    "from pylab import *\n",
    "import numpy as np\n",
    "#import mpld3\n",
    "import copy"
   ]
  },
  {
   "cell_type": "code",
   "execution_count": null,
   "metadata": {
    "collapsed": true
   },
   "outputs": [],
   "source": []
  },
  {
   "cell_type": "code",
   "execution_count": 2,
   "metadata": {},
   "outputs": [
    {
     "name": "stderr",
     "output_type": "stream",
     "text": [
      "Using TensorFlow backend.\n"
     ]
    }
   ],
   "source": [
    "import sys\n",
    "sys.path.append(\"../..//\")\n",
    "import src\n",
    "from src.models.train_model import  generator"
   ]
  },
  {
   "cell_type": "code",
   "execution_count": 3,
   "metadata": {
    "scrolled": true
   },
   "outputs": [
    {
     "name": "stderr",
     "output_type": "stream",
     "text": [
      "../../src/data/generator_traj.py:460: RuntimeWarning: covariance is not positive-semidefinite.\n",
      "  for iname in Model_type[iModel[Model_num]][1] if iname in [\"Le0\", \"Ri0\", \"Ri1\"]}\n"
     ]
    },
    {
     "name": "stdout",
     "output_type": "stream",
     "text": [
      "(10, 26, 7)\n",
      "(10, 26, 7)\n",
      "(10, 26, 7)\n",
      "(10, 26, 7)\n",
      "(10, 26, 7)\n",
      "(10, 26, 7)\n",
      "(10, 26, 7)\n",
      "(10, 26, 7)\n",
      "(10, 26, 7)\n",
      "(10, 26, 7)\n",
      "(10, 50, 7)\n",
      "(10, 50, 7)\n",
      "(10, 50, 7)\n",
      "(10, 50, 7)\n",
      "(10, 50, 7)\n",
      "(10, 50, 7)\n",
      "(10, 50, 7)\n",
      "(10, 50, 7)\n",
      "(10, 50, 7)\n",
      "(10, 50, 7)\n",
      "(10, 100, 7)\n",
      "(10, 100, 7)\n",
      "(10, 100, 7)\n",
      "(10, 100, 7)\n",
      "(10, 100, 7)\n",
      "(10, 100, 7)\n",
      "(10, 100, 7)\n",
      "(10, 100, 7)\n",
      "(10, 100, 7)\n",
      "(10, 100, 7)\n",
      "(10, 200, 7)\n",
      "(10, 200, 7)\n",
      "(10, 200, 7)\n",
      "(10, 200, 7)\n",
      "(10, 200, 7)\n",
      "(10, 200, 7)\n",
      "(10, 200, 7)\n",
      "(10, 200, 7)\n",
      "(10, 200, 7)\n",
      "(10, 200, 7)\n"
     ]
    }
   ],
   "source": [
    "G = generator(n_steps_before_change=10,size_sample=10,ndim=2,type=\"BDSD\")\n",
    "i = 0\n",
    "for x,y in G:\n",
    "    print(y.shape)\n",
    "    i += 1\n",
    "    if i == 40:\n",
    "        break"
   ]
  },
  {
   "cell_type": "code",
   "execution_count": 4,
   "metadata": {},
   "outputs": [
    {
     "ename": "NameError",
     "evalue": "name 'X' is not defined",
     "output_type": "error",
     "traceback": [
      "\u001b[0;31m---------------------------------------------------------------------------\u001b[0m",
      "\u001b[0;31mNameError\u001b[0m                                 Traceback (most recent call last)",
      "\u001b[0;32m<ipython-input-4-bfd1c3bb3c36>\u001b[0m in \u001b[0;36m<module>\u001b[0;34m()\u001b[0m\n\u001b[0;32m----> 1\u001b[0;31m \u001b[0mprint\u001b[0m\u001b[0;34m(\u001b[0m\u001b[0mX\u001b[0m\u001b[0;34m.\u001b[0m\u001b[0mshape\u001b[0m\u001b[0;34m)\u001b[0m\u001b[0;34m\u001b[0m\u001b[0m\n\u001b[0m\u001b[1;32m      2\u001b[0m \u001b[0mprint\u001b[0m\u001b[0;34m(\u001b[0m\u001b[0mY\u001b[0m\u001b[0;34m.\u001b[0m\u001b[0mshape\u001b[0m\u001b[0;34m)\u001b[0m\u001b[0;34m\u001b[0m\u001b[0m\n\u001b[1;32m      3\u001b[0m \u001b[0;31m#print(Y_traj)\u001b[0m\u001b[0;34m\u001b[0m\u001b[0;34m\u001b[0m\u001b[0m\n",
      "\u001b[0;31mNameError\u001b[0m: name 'X' is not defined"
     ]
    }
   ],
   "source": [
    "print(X.shape)\n",
    "print(Y.shape)\n",
    "#print(Y_traj)"
   ]
  },
  {
   "cell_type": "code",
   "execution_count": null,
   "metadata": {
    "collapsed": true
   },
   "outputs": [],
   "source": []
  }
 ],
 "metadata": {
  "kernelspec": {
   "display_name": "Python 3",
   "language": "python",
   "name": "python3"
  },
  "language_info": {
   "codemirror_mode": {
    "name": "ipython",
    "version": 3
   },
   "file_extension": ".py",
   "mimetype": "text/x-python",
   "name": "python",
   "nbconvert_exporter": "python",
   "pygments_lexer": "ipython3",
   "version": "3.6.1"
  }
 },
 "nbformat": 4,
 "nbformat_minor": 2
}
